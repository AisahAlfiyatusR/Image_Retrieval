{
  "nbformat": 4,
  "nbformat_minor": 0,
  "metadata": {
    "colab": {
      "name": "CBIR Project.ipynb",
      "provenance": [],
      "collapsed_sections": [],
      "authorship_tag": "ABX9TyPwJCyPzaKY/D/Hdu3HP917",
      "include_colab_link": true
    },
    "kernelspec": {
      "name": "python3",
      "display_name": "Python 3"
    },
    "language_info": {
      "name": "python"
    },
    "accelerator": "GPU"
  },
  "cells": [
    {
      "cell_type": "markdown",
      "metadata": {
        "id": "view-in-github",
        "colab_type": "text"
      },
      "source": [
        "<a href=\"https://colab.research.google.com/github/AisahAlfiyatusR/Image_Retrieval/blob/main/CBIR_Project.ipynb\" target=\"_parent\"><img src=\"https://colab.research.google.com/assets/colab-badge.svg\" alt=\"Open In Colab\"/></a>"
      ]
    },
    {
      "cell_type": "code",
      "metadata": {
        "colab": {
          "base_uri": "https://localhost:8080/"
        },
        "id": "zKEZ42vPrJDa",
        "outputId": "e21c919d-3341-4e27-91c5-da987f4ccc83"
      },
      "source": [
        "from google.colab import drive\n",
        "drive.mount('/content/drive')\n",
        "%cd /content/drive/MyDrive/Plant/"
      ],
      "execution_count": 66,
      "outputs": [
        {
          "output_type": "stream",
          "name": "stdout",
          "text": [
            "Drive already mounted at /content/drive; to attempt to forcibly remount, call drive.mount(\"/content/drive\", force_remount=True).\n",
            "/content/drive/MyDrive/Plant\n"
          ]
        }
      ]
    },
    {
      "cell_type": "code",
      "metadata": {
        "id": "5fooQwizr33j"
      },
      "source": [
        "import os\n",
        "import cv2\n",
        "import numpy as np\n",
        "\n",
        "# Gather data train\n",
        "train_data = []\n",
        "train_label = []\n",
        "\n",
        "train_dir='/content/drive/MyDrive/Plant/train'\n",
        "for r, d, f in os.walk(train_dir):\n",
        "    for file in f:\n",
        "        if \".jpg\" in file:\n",
        "            imagePath = os.path.join(r, file)\n",
        "            image = cv2.imread(imagePath)\n",
        "            image = cv2.resize(image, (150,150))\n",
        "            train_data.append(image)\n",
        "            label = imagePath.split(os.path.sep)[-2]\n",
        "            train_label.append(label)\n",
        "\n",
        "train_data = np.array(train_data)\n",
        "train_label = np.array(train_label)"
      ],
      "execution_count": 67,
      "outputs": []
    },
    {
      "cell_type": "code",
      "metadata": {
        "id": "jdXHVQDh3byk"
      },
      "source": [
        "# Gather Data Validation\n",
        "val_data = []\n",
        "val_label = []\n",
        "\n",
        "testi_dir='/content/drive/MyDrive/Plant/test'\n",
        "for r, d, f in os.walk(testi_dir):\n",
        "    for file in f:\n",
        "        if \".jpg\" in file:\n",
        "            imagePath = os.path.join(r, file)\n",
        "            image = cv2.imread(imagePath)\n",
        "            image = cv2.resize(image, (150,150))\n",
        "            val_data.append(image)\n",
        "            label = imagePath.split(os.path.sep)[-2]\n",
        "            val_label.append(label)\n",
        "val_data = np.array(val_data)\n",
        "val_label = np.array(val_label)"
      ],
      "execution_count": 68,
      "outputs": []
    },
    {
      "cell_type": "code",
      "metadata": {
        "colab": {
          "base_uri": "https://localhost:8080/"
        },
        "id": "e-Z-Nz9o9XfG",
        "outputId": "73de6ed0-0652-4995-9065-70408b90c2ef"
      },
      "source": [
        "print(\"Train Data       = \", train_data.shape)\n",
        "print(\"Train Label      = \", train_label.shape)\n",
        "print(\"Validation Data  = \", val_data.shape)\n",
        "print(\"Validation Label = \", val_label.shape)"
      ],
      "execution_count": 69,
      "outputs": [
        {
          "output_type": "stream",
          "name": "stdout",
          "text": [
            "Train Data       =  (2288, 150, 150, 3)\n",
            "Train Label      =  (2288,)\n",
            "Validation Data  =  (528, 150, 150, 3)\n",
            "Validation Label =  (528,)\n"
          ]
        }
      ]
    },
    {
      "cell_type": "code",
      "metadata": {
        "colab": {
          "base_uri": "https://localhost:8080/"
        },
        "id": "2r_QsGWfMfk2",
        "outputId": "f39f0821-b7cd-4cfa-d82d-680183107278"
      },
      "source": [
        "# Normalisasi dataset\n",
        "print(\"Data sebelum di-normalisasi \", train_data[0][0][0])\n",
        "\n",
        "x_train = train_data.astype('float32') / 255.0\n",
        "x_val = val_data.astype('float32') / 255.0\n",
        "print(\"Data setelah di-normalisasi \", x_train[0][0][0])"
      ],
      "execution_count": 70,
      "outputs": [
        {
          "output_type": "stream",
          "name": "stdout",
          "text": [
            "Data sebelum di-normalisasi  [1 1 1]\n",
            "Data setelah di-normalisasi  [0.00392157 0.00392157 0.00392157]\n"
          ]
        }
      ]
    },
    {
      "cell_type": "code",
      "metadata": {
        "colab": {
          "base_uri": "https://localhost:8080/"
        },
        "id": "tiwXF7-mMj4n",
        "outputId": "64c1759d-765f-4a61-9096-1d2d3871d782"
      },
      "source": [
        "# Transformasi label encoder\n",
        "from sklearn.preprocessing import LabelEncoder\n",
        "\n",
        "print(\"Label sebelum di-encoder \", train_label[995:1005])\n",
        "\n",
        "lb = LabelEncoder()\n",
        "y_train = lb.fit_transform(train_label)\n",
        "y_val = lb.fit_transform(val_label)\n",
        "\n",
        "print(\"Label setelah di-encoder \", y_train[995:1005])"
      ],
      "execution_count": 93,
      "outputs": [
        {
          "output_type": "stream",
          "name": "stdout",
          "text": [
            "Label sebelum di-encoder  ['train' 'train' 'train' 'train' 'train' 'train' 'train' 'train' 'train'\n",
            " 'train']\n",
            "Label setelah di-encoder  [0 0 0 0 0 0 0 0 0 0]\n"
          ]
        }
      ]
    },
    {
      "cell_type": "code",
      "metadata": {
        "id": "dg3Kf399Qqpb"
      },
      "source": [
        "from tensorflow.keras.models import Sequential\n",
        "from tensorflow.keras.layers import InputLayer, Dense, Conv2D, MaxPool2D, Flatten"
      ],
      "execution_count": 94,
      "outputs": []
    },
    {
      "cell_type": "code",
      "metadata": {
        "colab": {
          "base_uri": "https://localhost:8080/"
        },
        "id": "A7DRL8SvUd16",
        "outputId": "0a2ba41d-8638-415b-e472-e2ec85dd3884"
      },
      "source": [
        "# Feature Extraction Layer\n",
        "model = Sequential()\n",
        "\n",
        "model.add(InputLayer(input_shape=[150,150,3]))\n",
        "model.add(Conv2D(filters=16, kernel_size=3, strides=1, padding='same', activation='relu'))\n",
        "model.add(MaxPool2D(pool_size=2, padding='same'))\n",
        "model.add(Conv2D(filters=32, kernel_size=3, strides=1, padding='same', activation='relu'))\n",
        "model.add(MaxPool2D(pool_size=2, padding='same'))\n",
        "model.add(Conv2D(filters=64, kernel_size=3, strides=1, padding='same', activation='relu'))\n",
        "model.add(MaxPool2D(pool_size=2, padding='same'))\n",
        "model.add(Flatten())\n",
        "\n",
        "# Fully Connected Layer\n",
        "model.add(Dense(128, activation='relu'))\n",
        "model.add(Dense(1, activation='sigmoid'))\n",
        "\n",
        "# Print model summary\n",
        "print(model.summary())"
      ],
      "execution_count": 95,
      "outputs": [
        {
          "output_type": "stream",
          "name": "stdout",
          "text": [
            "Model: \"sequential_10\"\n",
            "_________________________________________________________________\n",
            " Layer (type)                Output Shape              Param #   \n",
            "=================================================================\n",
            " conv2d_34 (Conv2D)          (None, 150, 150, 16)      448       \n",
            "                                                                 \n",
            " max_pooling2d_32 (MaxPoolin  (None, 75, 75, 16)       0         \n",
            " g2D)                                                            \n",
            "                                                                 \n",
            " conv2d_35 (Conv2D)          (None, 75, 75, 32)        4640      \n",
            "                                                                 \n",
            " max_pooling2d_33 (MaxPoolin  (None, 38, 38, 32)       0         \n",
            " g2D)                                                            \n",
            "                                                                 \n",
            " conv2d_36 (Conv2D)          (None, 38, 38, 64)        18496     \n",
            "                                                                 \n",
            " max_pooling2d_34 (MaxPoolin  (None, 19, 19, 64)       0         \n",
            " g2D)                                                            \n",
            "                                                                 \n",
            " flatten_10 (Flatten)        (None, 23104)             0         \n",
            "                                                                 \n",
            " dense_18 (Dense)            (None, 128)               2957440   \n",
            "                                                                 \n",
            " dense_19 (Dense)            (None, 1)                 129       \n",
            "                                                                 \n",
            "=================================================================\n",
            "Total params: 2,981,153\n",
            "Trainable params: 2,981,153\n",
            "Non-trainable params: 0\n",
            "_________________________________________________________________\n",
            "None\n"
          ]
        }
      ]
    },
    {
      "cell_type": "code",
      "metadata": {
        "id": "JH5eFcqfUqWA"
      },
      "source": [
        "# Compile model\n",
        "from tensorflow.keras.optimizers import Adam\n",
        "\n",
        "model.compile(optimizer=Adam(learning_rate=0.001), \n",
        "              loss='binary_crossentropy', \n",
        "              metrics=['acc'])"
      ],
      "execution_count": 96,
      "outputs": []
    },
    {
      "cell_type": "code",
      "metadata": {
        "colab": {
          "base_uri": "https://localhost:8080/"
        },
        "id": "XwHKmBtsUxyL",
        "outputId": "2c07be78-4caa-49f1-f189-59aad145ccdb"
      },
      "source": [
        "H = model.fit(x_train, y_train, batch_size=20, epochs=50, validation_data=(x_val, y_val))"
      ],
      "execution_count": 97,
      "outputs": [
        {
          "output_type": "stream",
          "name": "stdout",
          "text": [
            "Epoch 1/50\n",
            "115/115 [==============================] - 4s 27ms/step - loss: 0.0080 - acc: 0.9969 - val_loss: 3.8724e-38 - val_acc: 1.0000\n",
            "Epoch 2/50\n",
            "115/115 [==============================] - 3s 24ms/step - loss: 1.4209e-38 - acc: 1.0000 - val_loss: 3.8623e-38 - val_acc: 1.0000\n",
            "Epoch 3/50\n",
            "115/115 [==============================] - 3s 24ms/step - loss: 1.4179e-38 - acc: 1.0000 - val_loss: 3.8623e-38 - val_acc: 1.0000\n",
            "Epoch 4/50\n",
            "115/115 [==============================] - 3s 24ms/step - loss: 1.4206e-38 - acc: 1.0000 - val_loss: 3.8623e-38 - val_acc: 1.0000\n",
            "Epoch 5/50\n",
            "115/115 [==============================] - 3s 24ms/step - loss: 1.4179e-38 - acc: 1.0000 - val_loss: 3.8623e-38 - val_acc: 1.0000\n",
            "Epoch 6/50\n",
            "115/115 [==============================] - 3s 23ms/step - loss: 1.4211e-38 - acc: 1.0000 - val_loss: 3.8623e-38 - val_acc: 1.0000\n",
            "Epoch 7/50\n",
            "115/115 [==============================] - 3s 24ms/step - loss: 1.4193e-38 - acc: 1.0000 - val_loss: 3.8623e-38 - val_acc: 1.0000\n",
            "Epoch 8/50\n",
            "115/115 [==============================] - 3s 24ms/step - loss: 1.4184e-38 - acc: 1.0000 - val_loss: 3.8623e-38 - val_acc: 1.0000\n",
            "Epoch 9/50\n",
            "115/115 [==============================] - 3s 24ms/step - loss: 1.4179e-38 - acc: 1.0000 - val_loss: 3.8623e-38 - val_acc: 1.0000\n",
            "Epoch 10/50\n",
            "115/115 [==============================] - 3s 24ms/step - loss: 1.4197e-38 - acc: 1.0000 - val_loss: 3.8623e-38 - val_acc: 1.0000\n",
            "Epoch 11/50\n",
            "115/115 [==============================] - 3s 24ms/step - loss: 1.4185e-38 - acc: 1.0000 - val_loss: 3.8623e-38 - val_acc: 1.0000\n",
            "Epoch 12/50\n",
            "115/115 [==============================] - 3s 24ms/step - loss: 1.4199e-38 - acc: 1.0000 - val_loss: 3.8623e-38 - val_acc: 1.0000\n",
            "Epoch 13/50\n",
            "115/115 [==============================] - 3s 24ms/step - loss: 1.4179e-38 - acc: 1.0000 - val_loss: 3.8623e-38 - val_acc: 1.0000\n",
            "Epoch 14/50\n",
            "115/115 [==============================] - 3s 24ms/step - loss: 1.4199e-38 - acc: 1.0000 - val_loss: 3.8623e-38 - val_acc: 1.0000\n",
            "Epoch 15/50\n",
            "115/115 [==============================] - 3s 24ms/step - loss: 1.4179e-38 - acc: 1.0000 - val_loss: 3.8623e-38 - val_acc: 1.0000\n",
            "Epoch 16/50\n",
            "115/115 [==============================] - 3s 24ms/step - loss: 1.4199e-38 - acc: 1.0000 - val_loss: 3.8623e-38 - val_acc: 1.0000\n",
            "Epoch 17/50\n",
            "115/115 [==============================] - 3s 24ms/step - loss: 1.4179e-38 - acc: 1.0000 - val_loss: 3.8623e-38 - val_acc: 1.0000\n",
            "Epoch 18/50\n",
            "115/115 [==============================] - 3s 24ms/step - loss: 1.4227e-38 - acc: 1.0000 - val_loss: 3.8623e-38 - val_acc: 1.0000\n",
            "Epoch 19/50\n",
            "115/115 [==============================] - 3s 24ms/step - loss: 1.4179e-38 - acc: 1.0000 - val_loss: 3.8623e-38 - val_acc: 1.0000\n",
            "Epoch 20/50\n",
            "115/115 [==============================] - 3s 24ms/step - loss: 1.4179e-38 - acc: 1.0000 - val_loss: 3.8623e-38 - val_acc: 1.0000\n",
            "Epoch 21/50\n",
            "115/115 [==============================] - 3s 24ms/step - loss: 1.4206e-38 - acc: 1.0000 - val_loss: 3.8623e-38 - val_acc: 1.0000\n",
            "Epoch 22/50\n",
            "115/115 [==============================] - 3s 28ms/step - loss: 1.4179e-38 - acc: 1.0000 - val_loss: 3.8623e-38 - val_acc: 1.0000\n",
            "Epoch 23/50\n",
            "115/115 [==============================] - 3s 27ms/step - loss: 1.4179e-38 - acc: 1.0000 - val_loss: 3.8623e-38 - val_acc: 1.0000\n",
            "Epoch 24/50\n",
            "115/115 [==============================] - 3s 27ms/step - loss: 1.4179e-38 - acc: 1.0000 - val_loss: 3.8623e-38 - val_acc: 1.0000\n",
            "Epoch 25/50\n",
            "115/115 [==============================] - 3s 26ms/step - loss: 1.4192e-38 - acc: 1.0000 - val_loss: 3.8623e-38 - val_acc: 1.0000\n",
            "Epoch 26/50\n",
            "115/115 [==============================] - 3s 27ms/step - loss: 1.4198e-38 - acc: 1.0000 - val_loss: 3.8623e-38 - val_acc: 1.0000\n",
            "Epoch 27/50\n",
            "115/115 [==============================] - 3s 26ms/step - loss: 1.4197e-38 - acc: 1.0000 - val_loss: 3.8623e-38 - val_acc: 1.0000\n",
            "Epoch 28/50\n",
            "115/115 [==============================] - 3s 26ms/step - loss: 1.4199e-38 - acc: 1.0000 - val_loss: 3.8623e-38 - val_acc: 1.0000\n",
            "Epoch 29/50\n",
            "115/115 [==============================] - 3s 27ms/step - loss: 1.4192e-38 - acc: 1.0000 - val_loss: 3.8623e-38 - val_acc: 1.0000\n",
            "Epoch 30/50\n",
            "115/115 [==============================] - 3s 26ms/step - loss: 1.4198e-38 - acc: 1.0000 - val_loss: 3.8623e-38 - val_acc: 1.0000\n",
            "Epoch 31/50\n",
            "115/115 [==============================] - 3s 26ms/step - loss: 1.4179e-38 - acc: 1.0000 - val_loss: 3.8623e-38 - val_acc: 1.0000\n",
            "Epoch 32/50\n",
            "115/115 [==============================] - 3s 26ms/step - loss: 1.4179e-38 - acc: 1.0000 - val_loss: 3.8623e-38 - val_acc: 1.0000\n",
            "Epoch 33/50\n",
            "115/115 [==============================] - 3s 26ms/step - loss: 1.4179e-38 - acc: 1.0000 - val_loss: 3.8623e-38 - val_acc: 1.0000\n",
            "Epoch 34/50\n",
            "115/115 [==============================] - 3s 26ms/step - loss: 1.4184e-38 - acc: 1.0000 - val_loss: 3.8623e-38 - val_acc: 1.0000\n",
            "Epoch 35/50\n",
            "115/115 [==============================] - 3s 26ms/step - loss: 1.4192e-38 - acc: 1.0000 - val_loss: 3.8623e-38 - val_acc: 1.0000\n",
            "Epoch 36/50\n",
            "115/115 [==============================] - 3s 26ms/step - loss: 1.4179e-38 - acc: 1.0000 - val_loss: 3.8623e-38 - val_acc: 1.0000\n",
            "Epoch 37/50\n",
            "115/115 [==============================] - 3s 26ms/step - loss: 1.4179e-38 - acc: 1.0000 - val_loss: 3.8623e-38 - val_acc: 1.0000\n",
            "Epoch 38/50\n",
            "115/115 [==============================] - 3s 25ms/step - loss: 1.4179e-38 - acc: 1.0000 - val_loss: 3.8623e-38 - val_acc: 1.0000\n",
            "Epoch 39/50\n",
            "115/115 [==============================] - 3s 25ms/step - loss: 1.4184e-38 - acc: 1.0000 - val_loss: 3.8623e-38 - val_acc: 1.0000\n",
            "Epoch 40/50\n",
            "115/115 [==============================] - 3s 26ms/step - loss: 1.4184e-38 - acc: 1.0000 - val_loss: 3.8623e-38 - val_acc: 1.0000\n",
            "Epoch 41/50\n",
            "115/115 [==============================] - 3s 26ms/step - loss: 1.4179e-38 - acc: 1.0000 - val_loss: 3.8623e-38 - val_acc: 1.0000\n",
            "Epoch 42/50\n",
            "115/115 [==============================] - 3s 26ms/step - loss: 1.4190e-38 - acc: 1.0000 - val_loss: 3.8623e-38 - val_acc: 1.0000\n",
            "Epoch 43/50\n",
            "115/115 [==============================] - 3s 25ms/step - loss: 1.4179e-38 - acc: 1.0000 - val_loss: 3.8623e-38 - val_acc: 1.0000\n",
            "Epoch 44/50\n",
            "115/115 [==============================] - 3s 25ms/step - loss: 1.4179e-38 - acc: 1.0000 - val_loss: 3.8623e-38 - val_acc: 1.0000\n",
            "Epoch 45/50\n",
            "115/115 [==============================] - 3s 25ms/step - loss: 1.4206e-38 - acc: 1.0000 - val_loss: 3.8623e-38 - val_acc: 1.0000\n",
            "Epoch 46/50\n",
            "115/115 [==============================] - 3s 25ms/step - loss: 1.4214e-38 - acc: 1.0000 - val_loss: 3.8623e-38 - val_acc: 1.0000\n",
            "Epoch 47/50\n",
            "115/115 [==============================] - 3s 26ms/step - loss: 1.4200e-38 - acc: 1.0000 - val_loss: 3.8623e-38 - val_acc: 1.0000\n",
            "Epoch 48/50\n",
            "115/115 [==============================] - 3s 26ms/step - loss: 1.4206e-38 - acc: 1.0000 - val_loss: 3.8623e-38 - val_acc: 1.0000\n",
            "Epoch 49/50\n",
            "115/115 [==============================] - 3s 26ms/step - loss: 1.4198e-38 - acc: 1.0000 - val_loss: 3.8623e-38 - val_acc: 1.0000\n",
            "Epoch 50/50\n",
            "115/115 [==============================] - 3s 25ms/step - loss: 1.4179e-38 - acc: 1.0000 - val_loss: 3.8623e-38 - val_acc: 1.0000\n"
          ]
        }
      ]
    },
    {
      "cell_type": "code",
      "metadata": {
        "colab": {
          "base_uri": "https://localhost:8080/",
          "height": 299
        },
        "id": "lvAEewaSVfbb",
        "outputId": "0c81f176-ad38-47c6-d4d5-279522fdc5d8"
      },
      "source": [
        "%matplotlib inline\n",
        "\n",
        "import matplotlib.pyplot as plt\n",
        "\n",
        "plt.style.use(\"ggplot\")\n",
        "plt.figure()\n",
        "plt.plot(np.arange(0, 50), H.history[\"loss\"], label=\"train_loss\")\n",
        "plt.plot(np.arange(0, 50), H.history[\"val_loss\"], label=\"val_loss\")\n",
        "plt.title(\"Loss Plot\")\n",
        "plt.xlabel(\"Epoch #\")\n",
        "plt.ylabel(\"Loss\")\n",
        "plt.legend()\n",
        "plt.show()"
      ],
      "execution_count": 98,
      "outputs": [
        {
          "output_type": "display_data",
          "data": {
            "image/png": "[encoded data removed]",
            "text/plain": [
              "<Figure size 432x288 with 1 Axes>"
            ]
          },
          "metadata": {}
        }
      ]
    },
    {
      "cell_type": "code",
      "metadata": {
        "colab": {
          "base_uri": "https://localhost:8080/",
          "height": 299
        },
        "id": "wSLl1cohVqsG",
        "outputId": "b20d2298-e87b-4d21-c084-b170862802de"
      },
      "source": [
        "plt.style.use(\"ggplot\")\n",
        "plt.figure()\n",
        "plt.plot(np.arange(0, 50), H.history[\"acc\"], label=\"train_acc\")\n",
        "plt.plot(np.arange(0, 50), H.history[\"val_acc\"], label=\"val_acc\")\n",
        "plt.title(\"Accuracy Plot\")\n",
        "plt.xlabel(\"Epoch #\")\n",
        "plt.ylabel(\"Acc\")\n",
        "plt.legend()\n",
        "plt.show()"
      ],
      "execution_count": 99,
      "outputs": [
        {
          "output_type": "display_data",
          "data": {
            "image/png": "[encoded data removed]",
            "text/plain": [
              "<Figure size 432x288 with 1 Axes>"
            ]
          },
          "metadata": {}
        }
      ]
    },
    {
      "cell_type": "code",
      "metadata": {
        "colab": {
          "base_uri": "https://localhost:8080/"
        },
        "id": "TBIQ3chbVtGs",
        "outputId": "343f168a-4bf2-4d17-caa9-b0bfae622afc"
      },
      "source": [
        "from sklearn.metrics import classification_report\n",
        "\n",
        "pred = model.predict(x_val)\n",
        "labels = (pred > 0.5).astype(np.int)\n",
        "\n",
        "print(classification_report(y_val, labels))"
      ],
      "execution_count": 100,
      "outputs": [
        {
          "output_type": "stream",
          "name": "stdout",
          "text": [
            "              precision    recall  f1-score   support\n",
            "\n",
            "           0       1.00      1.00      1.00       528\n",
            "\n",
            "    accuracy                           1.00       528\n",
            "   macro avg       1.00      1.00      1.00       528\n",
            "weighted avg       1.00      1.00      1.00       528\n",
            "\n"
          ]
        }
      ]
    }
  ]
}